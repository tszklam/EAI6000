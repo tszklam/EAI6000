{
 "cells": [
  {
   "cell_type": "markdown",
   "metadata": {},
   "source": [
    "# EAI6000 2023 Spring A Week 6 Assignment"
   ]
  },
  {
   "cell_type": "markdown",
   "metadata": {},
   "source": [
    "## Section One - Conceptual Understanding"
   ]
  },
  {
   "cell_type": "markdown",
   "metadata": {},
   "source": [
    "### <div class=\"alert alert-info\">[GRADED  TASK 1.1]</div>\n",
    "Please compare various language models - __RNN__, __LSTM__, __GRU__, __Transformer__, __BERT__, and __GPTs__ in your own understanding"
   ]
  },
  {
   "cell_type": "code",
   "execution_count": null,
   "metadata": {},
   "outputs": [],
   "source": [
    "# Your answer here"
   ]
  },
  {
   "attachments": {},
   "cell_type": "markdown",
   "metadata": {},
   "source": [
    "### <div class=\"alert alert-info\">[GRADED  TASK 1.2]</div>\n",
    "\n",
    "Please discuss different ways (at least three methods) to encode natural languages in your own understanding"
   ]
  },
  {
   "cell_type": "code",
   "execution_count": null,
   "metadata": {},
   "outputs": [],
   "source": [
    "# Your answer here"
   ]
  },
  {
   "cell_type": "markdown",
   "metadata": {},
   "source": [
    "## Section Two - Sentiment Analysis\n",
    "\n",
    "Use the attached IMDB Dataset.csv file to run sentiment analysis"
   ]
  },
  {
   "cell_type": "markdown",
   "metadata": {},
   "source": [
    "### <div class=\"alert alert-info\">[GRADED  TASK 2.1]</div>\n",
    "* Split the data into training and testing part using the `train_test_split` function so that the training set size is 75% of the whole data (set argument `random_state=2023` to make the result deterministic, and make sure the data is split in a stratified fashion)\n",
    "\n",
    "* Report and interpret the result (accuracy score) on test set"
   ]
  },
  {
   "cell_type": "code",
   "execution_count": null,
   "metadata": {},
   "outputs": [],
   "source": [
    "# Your answer here"
   ]
  },
  {
   "cell_type": "markdown",
   "metadata": {},
   "source": [
    "### <div class=\"alert alert-info\">[GRADED  TASK 2.2]</div>\n",
    "* Try to add cross-validation using the `RepeateKFold` function with 5 splits, 10 repeats, and 2023 as random state. \n",
    "* Report the result on both training and test set with average and the standard deviation of the accuracy score\n",
    "* Please expain whether the model is overfitting or underfitting the training data\n"
   ]
  },
  {
   "cell_type": "code",
   "execution_count": null,
   "metadata": {},
   "outputs": [],
   "source": [
    "# Your answer here"
   ]
  }
 ],
 "metadata": {
  "kernelspec": {
   "display_name": "Python 3",
   "language": "python",
   "name": "python3"
  },
  "language_info": {
   "codemirror_mode": {
    "name": "ipython",
    "version": 3
   },
   "file_extension": ".py",
   "mimetype": "text/x-python",
   "name": "python",
   "nbconvert_exporter": "python",
   "pygments_lexer": "ipython3",
   "version": "3.7.6"
  }
 },
 "nbformat": 4,
 "nbformat_minor": 4
}
